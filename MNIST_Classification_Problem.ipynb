{
  "cells": [
    {
      "cell_type": "markdown",
      "metadata": {
        "id": "view-in-github",
        "colab_type": "text"
      },
      "source": [
        "<a href=\"https://colab.research.google.com/github/ghadaalhabib/Machine-Leanring-Projects/blob/main/MNIST_Classification_Problem.ipynb\" target=\"_parent\"><img src=\"https://colab.research.google.com/assets/colab-badge.svg\" alt=\"Open In Colab\"/></a>"
      ]
    },
    {
      "cell_type": "markdown",
      "metadata": {
        "id": "u0r4fI1NUuG7"
      },
      "source": [
        "# MNIST Classification Problem"
      ]
    },
    {
      "cell_type": "code",
      "execution_count": null,
      "metadata": {
        "id": "dyiN6KppZWDT"
      },
      "outputs": [],
      "source": [
        "import tensorflow as tf\n",
        "from tensorflow import keras\n",
        "from tensorflow.keras import layers\n",
        "from sklearn.model_selection import train_test_split\n",
        "import numpy as np\n",
        "import matplotlib.pyplot as plt"
      ]
    },
    {
      "cell_type": "markdown",
      "metadata": {
        "id": "I-PPkOp7Rzx1"
      },
      "source": [
        "### Load the data"
      ]
    },
    {
      "cell_type": "code",
      "execution_count": null,
      "metadata": {
        "id": "kNXon746RjwQ"
      },
      "outputs": [],
      "source": [
        "mnist = keras.datasets.mnist\n",
        "(train_images, train_labels), (test_images, test_labels) = mnist.load_data()"
      ]
    },
    {
      "cell_type": "markdown",
      "metadata": {
        "id": "y4sZcvsrR3dy"
      },
      "source": [
        "### Data Preprocessing"
      ]
    },
    {
      "cell_type": "code",
      "execution_count": null,
      "metadata": {
        "id": "znPqSboeRmBt"
      },
      "outputs": [],
      "source": [
        "# Normalize pixel values to be between 0 and 1\n",
        "train_images = train_images.astype(\"float32\") / 255.0\n",
        "test_images = test_images.astype(\"float32\") / 255.0\n",
        "\n",
        "train_labels = keras.utils.to_categorical(train_labels)\n",
        "test_labels = keras.utils.to_categorical(test_labels)"
      ]
    },
    {
      "cell_type": "markdown",
      "metadata": {
        "id": "zFMkjPbtS3g2"
      },
      "source": [
        "### Define the neural network model\n"
      ]
    },
    {
      "cell_type": "markdown",
      "metadata": {
        "id": "L_JpZY0cSLAP"
      },
      "source": [
        "#### Option 1: Fully-connected layer"
      ]
    },
    {
      "cell_type": "code",
      "execution_count": null,
      "metadata": {
        "id": "j00DvsEpVxe4"
      },
      "outputs": [],
      "source": [
        "# Reshape images to be flattened arrays\n",
        "# We flattened the input array in order to convert the 2D input images into 1D arrays that can be fed into a fully connected neural network\n",
        "\n",
        "train_images = train_images.reshape((train_images.shape[0], 28 * 28))\n",
        "test_images = test_images.reshape((test_images.shape[0], 28 * 28))"
      ]
    },
    {
      "cell_type": "code",
      "execution_count": null,
      "metadata": {
        "id": "YNFK12fuRoTb"
      },
      "outputs": [],
      "source": [
        "model = keras.Sequential(\n",
        "    [\n",
        "        layers.Dense(256, activation=\"relu\", input_shape=(28 * 28,)),\n",
        "        layers.Dense(128, activation=\"relu\"),\n",
        "        layers.Dense(10, activation=\"softmax\"),\n",
        "    ]\n",
        ")"
      ]
    },
    {
      "cell_type": "markdown",
      "metadata": {
        "id": "5k13EjTXSgK6"
      },
      "source": [
        "#### Option 2: Convolutional Neural Network"
      ]
    },
    {
      "cell_type": "code",
      "execution_count": null,
      "metadata": {
        "id": "b_utBmpQfC0W"
      },
      "outputs": [],
      "source": [
        "# Incase the fully-connected layer was used previously used (meaning the input data was flattened to a 1D vector): we need to reshape the input data to 2D images in the form of image arrays \n",
        "# and add an extra dimension to the input data\n",
        "train_images = np.expand_dims(train_images, axis=-1)\n",
        "test_images = np.expand_dims(test_images, axis=-1)"
      ]
    },
    {
      "cell_type": "code",
      "execution_count": null,
      "metadata": {
        "id": "N8wMa7faSnCu"
      },
      "outputs": [],
      "source": [
        "model = keras.Sequential(\n",
        "    [\n",
        "        layers.Conv2D(32, (3, 3), activation=\"relu\", input_shape=(28, 28, 1)),\n",
        "        layers.MaxPooling2D((2, 2)),\n",
        "        layers.Conv2D(64, (3, 3), activation=\"relu\"),\n",
        "        layers.MaxPooling2D((2, 2)),\n",
        "        layers.Flatten(),\n",
        "        layers.Dense(128, activation=\"relu\"),\n",
        "        layers.Dense(10, activation=\"softmax\"),\n",
        "    ]\n",
        ")"
      ]
    },
    {
      "cell_type": "markdown",
      "metadata": {
        "id": "BxBL7ETcS6s5"
      },
      "source": [
        "### Compile the model with categorical cross entropy as the loss function\n"
      ]
    },
    {
      "cell_type": "code",
      "execution_count": null,
      "metadata": {
        "id": "AOkArRgVRrrk"
      },
      "outputs": [],
      "source": [
        "model.compile(\n",
        "    optimizer=keras.optimizers.Adam(learning_rate=0.001),\n",
        "    loss=\"categorical_crossentropy\",\n",
        "    metrics=[\"accuracy\"],\n",
        ")"
      ]
    },
    {
      "cell_type": "markdown",
      "metadata": {
        "id": "0VykWsWhS939"
      },
      "source": [
        "### Train the model on the training data\n"
      ]
    },
    {
      "cell_type": "markdown",
      "metadata": {
        "id": "Wf2OsaE4ni-U"
      },
      "source": [
        "### Without a validation set:"
      ]
    },
    {
      "cell_type": "code",
      "execution_count": null,
      "metadata": {
        "id": "QbCD2W1ERtcV"
      },
      "outputs": [],
      "source": [
        "history = model.fit(train_images, train_labels, batch_size=32, epochs=10)\n",
        "\n",
        "# Evaluate the model on the test set\n",
        "test_loss, test_acc = model.evaluate(test_images, test_labels)\n",
        "print('Test accuracy:', test_acc)"
      ]
    },
    {
      "cell_type": "markdown",
      "metadata": {
        "id": "BOVw8ue3aVfN"
      },
      "source": [
        "### Add a validation set:"
      ]
    },
    {
      "cell_type": "code",
      "execution_count": null,
      "metadata": {
        "id": "Y3jgOMLbaUsw"
      },
      "outputs": [],
      "source": [
        "x_train, x_val, y_train, y_val = train_test_split(train_images, train_labels, test_size=0.2, random_state=42)"
      ]
    },
    {
      "cell_type": "code",
      "execution_count": null,
      "metadata": {
        "colab": {
          "base_uri": "https://localhost:8080/"
        },
        "id": "yuGHn61Ycy2V",
        "outputId": "735d5546-c8bf-4ff9-b438-3897b7ee4a7b"
      },
      "outputs": [
        {
          "output_type": "stream",
          "name": "stdout",
          "text": [
            "Epoch 1/10\n",
            "1500/1500 [==============================] - 10s 6ms/step - loss: 0.2284 - accuracy: 0.9314 - val_loss: 0.1340 - val_accuracy: 0.9592\n",
            "Epoch 2/10\n",
            "1500/1500 [==============================] - 8s 6ms/step - loss: 0.0930 - accuracy: 0.9715 - val_loss: 0.0932 - val_accuracy: 0.9724\n",
            "Epoch 3/10\n",
            "1500/1500 [==============================] - 9s 6ms/step - loss: 0.0627 - accuracy: 0.9796 - val_loss: 0.0965 - val_accuracy: 0.9729\n",
            "Epoch 4/10\n",
            "1500/1500 [==============================] - 9s 6ms/step - loss: 0.0467 - accuracy: 0.9854 - val_loss: 0.0801 - val_accuracy: 0.9774\n",
            "Epoch 5/10\n",
            "1500/1500 [==============================] - 9s 6ms/step - loss: 0.0361 - accuracy: 0.9880 - val_loss: 0.0994 - val_accuracy: 0.9747\n",
            "Epoch 6/10\n",
            "1500/1500 [==============================] - 10s 6ms/step - loss: 0.0277 - accuracy: 0.9913 - val_loss: 0.0917 - val_accuracy: 0.9753\n",
            "Epoch 7/10\n",
            "1500/1500 [==============================] - 10s 7ms/step - loss: 0.0273 - accuracy: 0.9910 - val_loss: 0.1085 - val_accuracy: 0.9758\n",
            "Epoch 8/10\n",
            "1500/1500 [==============================] - 10s 7ms/step - loss: 0.0214 - accuracy: 0.9928 - val_loss: 0.0967 - val_accuracy: 0.9777\n",
            "Epoch 9/10\n",
            "1500/1500 [==============================] - 9s 6ms/step - loss: 0.0183 - accuracy: 0.9943 - val_loss: 0.1105 - val_accuracy: 0.9765\n",
            "Epoch 10/10\n",
            "1500/1500 [==============================] - 9s 6ms/step - loss: 0.0178 - accuracy: 0.9945 - val_loss: 0.1160 - val_accuracy: 0.9763\n",
            "313/313 [==============================] - 1s 4ms/step - loss: 0.1078 - accuracy: 0.9762\n",
            "Test accuracy: 0.9761999845504761\n"
          ]
        }
      ],
      "source": [
        "# Train the model on the training set and validate on the validation set\n",
        "history = model.fit(x_train, y_train, epochs=10, batch_size=32, validation_data=(x_val, y_val))\n",
        "\n",
        "# Evaluate the model on the test set\n",
        "test_loss, test_acc = model.evaluate(test_images, test_labels)\n",
        "print('Test accuracy:', test_acc)"
      ]
    },
    {
      "cell_type": "markdown",
      "metadata": {
        "id": "e7uhGnN_pnzl"
      },
      "source": [
        "### Plot Training & Validation Loss"
      ]
    },
    {
      "cell_type": "code",
      "execution_count": null,
      "metadata": {
        "id": "jJs3pRbeuCPv"
      },
      "outputs": [],
      "source": [
        "plt.plot(history.history['loss'])\n",
        "plt.plot(history.history['val_loss'])\n",
        "plt.title('Model loss')\n",
        "plt.ylabel('Loss')\n",
        "plt.xlabel('Epoch')\n",
        "plt.legend(['Train', 'Test'], loc='upper right')\n",
        "plt.show()"
      ]
    },
    {
      "cell_type": "markdown",
      "metadata": {
        "id": "ONhEOWMIpvnk"
      },
      "source": [
        "### Plot 20 random images with label from the training set and see if the model predicts the images correctly by color coding wrong predictions with red and right predictions with green."
      ]
    },
    {
      "cell_type": "code",
      "execution_count": null,
      "metadata": {
        "colab": {
          "base_uri": "https://localhost:8080/",
          "height": 838
        },
        "id": "an7YALmSusjQ",
        "outputId": "5e2c9e93-3319-42cc-ef0c-a40878be2d0b"
      },
      "outputs": [
        {
          "output_type": "stream",
          "name": "stdout",
          "text": [
            "1/1 [==============================] - 0s 93ms/step\n"
          ]
        },
        {
          "output_type": "display_data",
          "data": {
            "text/plain": [
              "<Figure size 1200x1000 with 20 Axes>"
            ],
            "image/png": "[encoded data removed]"
          },
          "metadata": {}
        }
      ],
      "source": [
        "# Select 20 random images from the training set\n",
        "sample_indices = np.random.choice(len(train_images), size=20, replace=False)\n",
        "sample_images = train_images[sample_indices]\n",
        "sample_labels = train_labels[sample_indices]\n",
        "\n",
        "# Get the model's predictions for the sample images\n",
        "predictions = model.predict(sample_images)\n",
        "predicted_labels = np.argmax(predictions, axis=1)\n",
        "\n",
        "# Plot the sample images with their true and predicted labels\n",
        "fig, axs = plt.subplots(4, 5, figsize=(12, 10))\n",
        "fig.subplots_adjust(hspace=0.5, wspace=0.5)\n",
        "axs = axs.ravel()\n",
        "\n",
        "for i in range(20):\n",
        "    axs[i].imshow(sample_images[i].reshape(28, 28), cmap='gray')\n",
        "    axs[i].set_title(f'True: {np.argmax(sample_labels[i])}, Pred: {predicted_labels[i]}', color='g' if np.argmax(sample_labels[i]) == predicted_labels[i] else 'r')\n",
        "    axs[i].axis('off')\n",
        "\n",
        "plt.show()"
      ]
    }
  ],
  "metadata": {
    "colab": {
      "provenance": [],
      "authorship_tag": "ABX9TyNRRmalVWdt5QIRVYiKvhnu",
      "include_colab_link": true
    },
    "kernelspec": {
      "display_name": "Python 3",
      "name": "python3"
    },
    "language_info": {
      "name": "python"
    }
  },
  "nbformat": 4,
  "nbformat_minor": 0
}